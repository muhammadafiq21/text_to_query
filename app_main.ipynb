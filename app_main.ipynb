{
 "cells": [
  {
   "cell_type": "code",
   "execution_count": 69,
   "metadata": {},
   "outputs": [],
   "source": [
    "import pandas as pd\n",
    "import json\n",
    "from dotenv import load_dotenv\n",
    "import os\n",
    "import openai\n",
    "import mysql.connector\n",
    "from sqlalchemy import create_engine\n",
    "import pymysql\n",
    "import re"
   ]
  },
  {
   "cell_type": "markdown",
   "metadata": {},
   "source": [
    "## SYSTEM MASSAGE (PROMPT FOR OPENAI)"
   ]
  },
  {
   "cell_type": "code",
   "execution_count": 224,
   "metadata": {},
   "outputs": [],
   "source": [
    "OPENAI_PROMPT = \"\"\"You are an AI assistant that is able to convert natural language into a properly formatted SQL query.\n",
    "\n",
    "The database you will be querying is called \"sakila\". Here is the schema of the database:\n",
    "{schema}\n",
    "\n",
    "You must always output your answer in JSON format with the following key-value pairs (without the \"json\" text at the beginning of the output):\n",
    "{{- \"chain of thought\": the reasoning or story behind the generated query\n",
    "- \"query\": the SQL query that you generated\n",
    "- \"error\": an error message if the query is invalid, or null if the query is valid}}\n",
    "\n",
    "here is the correct output, dont use anything other than this following output example:\n",
    "\n",
    "{{-\"chain_of_thought\": \"The user is asking for the description of all tables in the sakila database. To achieve this, we would typically use the 'DESCRIBE' or 'SHOW COLUMNS FROM' command in SQL for each table. However, since the user is asking for the description of all tables, we would use the 'SHOW TABLES' command to get the list of tables and then describe each one. But as an AI, I can only generate a single SQL query at a time, so I will provide the SQL command to list all the tables, which is the first step in the process.\"\n",
    "-\"query\": \"SELECT title, length FROM film ORDER BY length DESC LIMIT 1;\",\n",
    "-\"error\": null}}\n",
    "\n",
    "\"\"\"\n",
    "\n",
    "\n",
    "\n"
   ]
  },
  {
   "cell_type": "markdown",
   "metadata": {},
   "source": [
    "## GET OPENAI"
   ]
  },
  {
   "cell_type": "code",
   "execution_count": 200,
   "metadata": {},
   "outputs": [],
   "source": [
    "\n",
    "\n",
    "\n",
    "load_dotenv()\n",
    "\n",
    "openai.api_type = xxx\n",
    "openai.api_base = xxx\n",
    "openai.api_version = xxx\n",
    "openai.api_key = xxx\n",
    "\n",
    "def get_completion_from_messages(system_message, user_message, model=\"gpt-4\", temperature=0, max_tokens=500) -> str:\n",
    "\n",
    "    messages = [\n",
    "        {'role': 'system', 'content': system_message},\n",
    "        {'role': 'user', 'content': f\"{user_message}\"}\n",
    "    ]\n",
    "    \n",
    "    response = openai.ChatCompletion.create(\n",
    "        engine=model,\n",
    "        messages=messages,\n",
    "        temperature=temperature, \n",
    "        max_tokens=max_tokens, \n",
    "    )\n",
    "    \n",
    "    return response.choices[0].message[\"content\"]\n",
    "\n",
    "\n",
    "#if __name__ == \"__main__\":\n",
    "#    system_message = \"You are a helpful assistant\"\n",
    "#    user_message = \"Hello, how are you?\"\n",
    "#    print(get_completion_from_messages(system_message, user_message))"
   ]
  },
  {
   "cell_type": "markdown",
   "metadata": {},
   "source": [
    "## CONNECTING TO DATABASE"
   ]
  },
  {
   "cell_type": "code",
   "execution_count": 6,
   "metadata": {},
   "outputs": [],
   "source": [
    "cnx = mysql.connector.connect(\n",
    "  host=\"xxx\",\n",
    "  user=\"xxx\",\n",
    "  password=\"xxx\",\n",
    "  database = 'xxx'\n",
    ")"
   ]
  },
  {
   "cell_type": "code",
   "execution_count": 211,
   "metadata": {},
   "outputs": [
    {
     "data": {
      "text/html": [
       "<div>\n",
       "<style scoped>\n",
       "    .dataframe tbody tr th:only-of-type {\n",
       "        vertical-align: middle;\n",
       "    }\n",
       "\n",
       "    .dataframe tbody tr th {\n",
       "        vertical-align: top;\n",
       "    }\n",
       "\n",
       "    .dataframe thead th {\n",
       "        text-align: right;\n",
       "    }\n",
       "</style>\n",
       "<table border=\"1\" class=\"dataframe\">\n",
       "  <thead>\n",
       "    <tr style=\"text-align: right;\">\n",
       "      <th></th>\n",
       "      <th>TABLE_NAME</th>\n",
       "      <th>COLUMN_NAME</th>\n",
       "      <th>DATA_TYPE</th>\n",
       "      <th>COLUMN_KEY</th>\n",
       "    </tr>\n",
       "  </thead>\n",
       "  <tbody>\n",
       "    <tr>\n",
       "      <th>0</th>\n",
       "      <td>actor</td>\n",
       "      <td>actor_id</td>\n",
       "      <td>smallint</td>\n",
       "      <td>PRI</td>\n",
       "    </tr>\n",
       "    <tr>\n",
       "      <th>1</th>\n",
       "      <td>actor</td>\n",
       "      <td>first_name</td>\n",
       "      <td>varchar</td>\n",
       "      <td></td>\n",
       "    </tr>\n",
       "    <tr>\n",
       "      <th>2</th>\n",
       "      <td>actor</td>\n",
       "      <td>last_name</td>\n",
       "      <td>varchar</td>\n",
       "      <td>MUL</td>\n",
       "    </tr>\n",
       "    <tr>\n",
       "      <th>3</th>\n",
       "      <td>actor</td>\n",
       "      <td>last_update</td>\n",
       "      <td>timestamp</td>\n",
       "      <td></td>\n",
       "    </tr>\n",
       "    <tr>\n",
       "      <th>4</th>\n",
       "      <td>actor_info</td>\n",
       "      <td>actor_id</td>\n",
       "      <td>smallint</td>\n",
       "      <td></td>\n",
       "    </tr>\n",
       "    <tr>\n",
       "      <th>...</th>\n",
       "      <td>...</td>\n",
       "      <td>...</td>\n",
       "      <td>...</td>\n",
       "      <td>...</td>\n",
       "    </tr>\n",
       "    <tr>\n",
       "      <th>127</th>\n",
       "      <td>staff_list</td>\n",
       "      <td>zip code</td>\n",
       "      <td>varchar</td>\n",
       "      <td></td>\n",
       "    </tr>\n",
       "    <tr>\n",
       "      <th>128</th>\n",
       "      <td>store</td>\n",
       "      <td>address_id</td>\n",
       "      <td>smallint</td>\n",
       "      <td>MUL</td>\n",
       "    </tr>\n",
       "    <tr>\n",
       "      <th>129</th>\n",
       "      <td>store</td>\n",
       "      <td>last_update</td>\n",
       "      <td>timestamp</td>\n",
       "      <td></td>\n",
       "    </tr>\n",
       "    <tr>\n",
       "      <th>130</th>\n",
       "      <td>store</td>\n",
       "      <td>manager_staff_id</td>\n",
       "      <td>tinyint</td>\n",
       "      <td>UNI</td>\n",
       "    </tr>\n",
       "    <tr>\n",
       "      <th>131</th>\n",
       "      <td>store</td>\n",
       "      <td>store_id</td>\n",
       "      <td>tinyint</td>\n",
       "      <td>PRI</td>\n",
       "    </tr>\n",
       "  </tbody>\n",
       "</table>\n",
       "<p>132 rows × 4 columns</p>\n",
       "</div>"
      ],
      "text/plain": [
       "     TABLE_NAME       COLUMN_NAME  DATA_TYPE COLUMN_KEY\n",
       "0         actor          actor_id   smallint        PRI\n",
       "1         actor        first_name    varchar           \n",
       "2         actor         last_name    varchar        MUL\n",
       "3         actor       last_update  timestamp           \n",
       "4    actor_info          actor_id   smallint           \n",
       "..          ...               ...        ...        ...\n",
       "127  staff_list          zip code    varchar           \n",
       "128       store        address_id   smallint        MUL\n",
       "129       store       last_update  timestamp           \n",
       "130       store  manager_staff_id    tinyint        UNI\n",
       "131       store          store_id    tinyint        PRI\n",
       "\n",
       "[132 rows x 4 columns]"
      ]
     },
     "execution_count": 211,
     "metadata": {},
     "output_type": "execute_result"
    }
   ],
   "source": [
    "cursor=cnx.cursor()\n",
    "query=(\"SELECT  TABLE_NAME, COLUMN_NAME, DATA_TYPE, COLUMN_KEY FROM INFORMATION_SCHEMA.COLUMNS WHERE TABLE_SCHEMA='sakila';\")\n",
    "cursor.execute(query)\n",
    "data = []\n",
    "for row in cursor:\n",
    "  data.append(row)\n",
    "\n",
    "df = pd.DataFrame(data, columns=cursor.column_names)\n",
    "df"
   ]
  },
  {
   "cell_type": "markdown",
   "metadata": {},
   "source": [
    "## MAIN APP"
   ]
  },
  {
   "cell_type": "code",
   "execution_count": 237,
   "metadata": {},
   "outputs": [
    {
     "data": {
      "text/plain": [
       "'SELECT title, length FROM film ORDER BY length ASC LIMIT 1;'"
      ]
     },
     "execution_count": 237,
     "metadata": {},
     "output_type": "execute_result"
    }
   ],
   "source": [
    "# Schema Representation for finances table\n",
    "\n",
    "\n",
    "\n",
    "# Format the system message with the schema\n",
    "formatted_system_message = OPENAI_PROMPT.format(schema=df)\n",
    "\n",
    "# Generate the SQL query from the user message\n",
    "user_message = \"what is the shortest movie?\"\n",
    "\n",
    "# Use GPT-4 to generate the SQL query\n",
    "response = get_completion_from_messages(formatted_system_message, user_message)\n",
    "\n",
    "# extract the output with re\n",
    "pattern = r'\\{(?:.|\\n)+\\}'\n",
    "\n",
    "# Use re.search() to find the first occurrence of the pattern in the text\n",
    "match = re.search(pattern, response)\n",
    "\n",
    "# If a match is found, extract the matched text\n",
    "if match:\n",
    "    extracted_text = match.group()\n",
    "\n",
    "json_response = json.loads(extracted_text)\n",
    "json_response['query']\n"
   ]
  },
  {
   "cell_type": "markdown",
   "metadata": {},
   "source": [
    "## EXECUTING QUERY IN DATABASE"
   ]
  },
  {
   "cell_type": "code",
   "execution_count": 238,
   "metadata": {},
   "outputs": [
    {
     "data": {
      "text/html": [
       "<div>\n",
       "<style scoped>\n",
       "    .dataframe tbody tr th:only-of-type {\n",
       "        vertical-align: middle;\n",
       "    }\n",
       "\n",
       "    .dataframe tbody tr th {\n",
       "        vertical-align: top;\n",
       "    }\n",
       "\n",
       "    .dataframe thead th {\n",
       "        text-align: right;\n",
       "    }\n",
       "</style>\n",
       "<table border=\"1\" class=\"dataframe\">\n",
       "  <thead>\n",
       "    <tr style=\"text-align: right;\">\n",
       "      <th></th>\n",
       "      <th>title</th>\n",
       "      <th>length</th>\n",
       "    </tr>\n",
       "  </thead>\n",
       "  <tbody>\n",
       "    <tr>\n",
       "      <th>0</th>\n",
       "      <td>ALIEN CENTER</td>\n",
       "      <td>46</td>\n",
       "    </tr>\n",
       "  </tbody>\n",
       "</table>\n",
       "</div>"
      ],
      "text/plain": [
       "          title  length\n",
       "0  ALIEN CENTER      46"
      ]
     },
     "execution_count": 238,
     "metadata": {},
     "output_type": "execute_result"
    }
   ],
   "source": [
    "cursor=cnx.cursor()\n",
    "querys=(json_response['query'])\n",
    "cursor.execute(querys)\n",
    "data = []\n",
    "for row in cursor:\n",
    "  data.append(row)\n",
    "\n",
    "df = pd.DataFrame(data, columns=cursor.column_names)\n",
    "df"
   ]
  },
  {
   "cell_type": "code",
   "execution_count": null,
   "metadata": {},
   "outputs": [],
   "source": []
  }
 ],
 "metadata": {
  "kernelspec": {
   "display_name": "Python 3",
   "language": "python",
   "name": "python3"
  },
  "language_info": {
   "codemirror_mode": {
    "name": "ipython",
    "version": 3
   },
   "file_extension": ".py",
   "mimetype": "text/x-python",
   "name": "python",
   "nbconvert_exporter": "python",
   "pygments_lexer": "ipython3",
   "version": "3.9.13"
  }
 },
 "nbformat": 4,
 "nbformat_minor": 2
}
